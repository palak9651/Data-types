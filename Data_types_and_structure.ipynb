{
  "nbformat": 4,
  "nbformat_minor": 0,
  "metadata": {
    "colab": {
      "provenance": []
    },
    "kernelspec": {
      "name": "python3",
      "display_name": "Python 3"
    },
    "language_info": {
      "name": "python"
    }
  },
  "cells": [
    {
      "cell_type": "code",
      "execution_count": null,
      "metadata": {
        "id": "Vy2Gwr1iGEhB"
      },
      "outputs": [],
      "source": []
    },
    {
      "cell_type": "markdown",
      "source": [
        "# Data Types and structure\n",
        "\n"
      ],
      "metadata": {
        "id": "I4WMx2beOMmV"
      }
    },
    {
      "cell_type": "markdown",
      "source": [
        "1. What are data structures, and why are they important3 ?\n",
        "  Data structure is a way of organising and storing data so that it can be accessed and manipulated effeciently, it is importand to simplify data manipulation, it also helps in optimize searching and sorting operations.\n",
        "\n",
        "2. Explain the difference between mutable and immutable data types with\n",
        "  examples?\n",
        "  In mutable datatypes we can modify the data after it was created and in immutable data we cannot modify the data after creation.\n"
      ],
      "metadata": {
        "id": "dUgSSGiQGOPq"
      }
    },
    {
      "cell_type": "code",
      "source": [
        "# for example\n",
        "# list are mutable\n",
        "num = [23, 24, 56, 67]\n",
        "num"
      ],
      "metadata": {
        "colab": {
          "base_uri": "https://localhost:8080/"
        },
        "id": "PTR4EPsnJFss",
        "outputId": "73edc887-51af-4042-be71-e80aeb364571"
      },
      "execution_count": null,
      "outputs": [
        {
          "output_type": "execute_result",
          "data": {
            "text/plain": [
              "[23, 24, 56, 67]"
            ]
          },
          "metadata": {},
          "execution_count": 1
        }
      ]
    },
    {
      "cell_type": "code",
      "source": [
        "num[2] = 1\n",
        "num"
      ],
      "metadata": {
        "colab": {
          "base_uri": "https://localhost:8080/"
        },
        "id": "5q5KmvUZJlWC",
        "outputId": "d3752490-010b-4414-fef3-bab39e222a50"
      },
      "execution_count": null,
      "outputs": [
        {
          "output_type": "execute_result",
          "data": {
            "text/plain": [
              "[23, 24, 1, 67]"
            ]
          },
          "metadata": {},
          "execution_count": 2
        }
      ]
    },
    {
      "cell_type": "code",
      "source": [
        "num1 = (23, 24, 56, 67)\n",
        "num1"
      ],
      "metadata": {
        "colab": {
          "base_uri": "https://localhost:8080/"
        },
        "id": "Z0qzvXoSJtcV",
        "outputId": "99f2efdc-c48e-4f34-cf75-630a0fef6856"
      },
      "execution_count": null,
      "outputs": [
        {
          "output_type": "execute_result",
          "data": {
            "text/plain": [
              "(23, 24, 56, 67)"
            ]
          },
          "metadata": {},
          "execution_count": 3
        }
      ]
    },
    {
      "cell_type": "code",
      "source": [
        "num1[3] = 1\n",
        "num"
      ],
      "metadata": {
        "colab": {
          "base_uri": "https://localhost:8080/",
          "height": 158
        },
        "id": "d5R6T61AJ8EE",
        "outputId": "95663d9f-88da-40af-81e5-8d47592dd92d"
      },
      "execution_count": null,
      "outputs": [
        {
          "output_type": "error",
          "ename": "TypeError",
          "evalue": "'tuple' object does not support item assignment",
          "traceback": [
            "\u001b[0;31m---------------------------------------------------------------------------\u001b[0m",
            "\u001b[0;31mTypeError\u001b[0m                                 Traceback (most recent call last)",
            "\u001b[0;32m<ipython-input-4-c7d832f67789>\u001b[0m in \u001b[0;36m<cell line: 0>\u001b[0;34m()\u001b[0m\n\u001b[0;32m----> 1\u001b[0;31m \u001b[0mnum1\u001b[0m\u001b[0;34m[\u001b[0m\u001b[0;36m3\u001b[0m\u001b[0;34m]\u001b[0m \u001b[0;34m=\u001b[0m \u001b[0;36m1\u001b[0m\u001b[0;34m\u001b[0m\u001b[0;34m\u001b[0m\u001b[0m\n\u001b[0m\u001b[1;32m      2\u001b[0m \u001b[0mnum\u001b[0m\u001b[0;34m\u001b[0m\u001b[0;34m\u001b[0m\u001b[0m\n",
            "\u001b[0;31mTypeError\u001b[0m: 'tuple' object does not support item assignment"
          ]
        }
      ]
    },
    {
      "cell_type": "markdown",
      "source": [
        "3. What are the main differences between lists and tuples in Python?\n",
        "  The main difference between list and tuple is that list are mutable and tuples are immutable.\n",
        "\n",
        "4. Describe how dictionaries store data?\n",
        "  Dictionary stores data as key value pair.\n",
        "\n",
        "5. Why might you use a set instead of a list in Python?\n",
        "   when unique collection of elements are required we use set and also when we don't want duplicate values. set is used when we need mathmatical operations like union, interaction, difference.\n",
        "\n",
        "6. What is a string in Python, and how is it different from a list?\n",
        "  stirng is a sequence of character represent and manipulate textual data. string is immutable and list are mutable string is represent by \" \" and list are represent by[] in which we can store any kind of data.\n",
        "\n",
        "7.  How do tuples ensure data integrity in Python?\n",
        "  Tuples are immutable to ensures thta their content remain constant this ensure data intigrity and reliablity.\n",
        "\n",
        "8. What is a hash table, and how does it relate to dictionaries in Python?\n",
        "   A hash table is a data structure that stores key-value pairs where each key is unque and associated with a value.\n",
        "\n",
        "9. Can lists contain different data types in Python?\n",
        "  yes list can cantains any kind of data.\n",
        "\n",
        "10. Explain why strings are immutable in Python?\n",
        "   stings are immutable in python for security memory effeciency and thread safty.\n",
        "\n",
        "11. What advantages do dictionaries offer over lists for certain tasks?\n",
        "  Dictionaries offers easy and faster way of searching elements then list.\n",
        "\n",
        "12. Describe a scenario where using a tuple would be preferable over a list?\n",
        "   Tuples would be used over a list where we don't want to change the data, it always remain same and one only read it.\n",
        "\n",
        "13. How do sets handle duplicate values in Python?\n",
        "   Sets doesn't allow duplicate values, so it automatically remove such value.\n",
        "\n",
        "14. How does the “in” keyword work differently for lists and dictionaries?\n",
        "\n",
        "15. Can you modify the elements of a tuple? Explain why or why not?\n",
        "   we cannot modify the tuple beause tuples are immutable which means it cannot change once it was created.\n",
        "\n",
        "16. What is a nested dictionary, and give an example of its use case?\n",
        "   A nested dictionary is a dictionary where the values themself are dictionary, it is use for the complex data structure.\n",
        "\n",
        "17. Describe the time complexity of accessing elements in a dictionary?\n",
        "\n",
        "18. In what situations are lists preferred over dictionaries?\n",
        "   In situations where order of elements and frequently perform operations needed list preffer over dictionary.\n",
        "\n",
        "19. Why are dictionaries considered unordered, and how does that affect data retrieval?\n",
        "   Dictionary considered as unordered  because we can add any kind of data in it.\n",
        "\n",
        "20. Explain the difference between a list and a dictionary in terms of data retrieval?\n",
        "   Dictionary quickly access value using unique keys while list acces value according to their position in a sequence.\n",
        "   \n",
        "\n",
        "\n",
        "   \n"
      ],
      "metadata": {
        "id": "Ufxecxi9KCZX"
      }
    },
    {
      "cell_type": "markdown",
      "source": [
        "# practicals"
      ],
      "metadata": {
        "id": "58EV1bbhOe5_"
      }
    },
    {
      "cell_type": "code",
      "source": [
        "# 1. Write a code to create a string with your name and print it?\n",
        "Name = \"Palak Patel\"\n",
        "Name"
      ],
      "metadata": {
        "colab": {
          "base_uri": "https://localhost:8080/",
          "height": 36
        },
        "id": "9Fco_fTGOiQf",
        "outputId": "b6074959-1dfb-4799-e93c-d5f04bb03c9a"
      },
      "execution_count": null,
      "outputs": [
        {
          "output_type": "execute_result",
          "data": {
            "text/plain": [
              "'Palak Patel'"
            ],
            "application/vnd.google.colaboratory.intrinsic+json": {
              "type": "string"
            }
          },
          "metadata": {},
          "execution_count": 1
        }
      ]
    },
    {
      "cell_type": "code",
      "source": [
        "# 2. Write a code to find the length of the string \"Hello World\"?\n",
        "a = \"Hello World\"\n",
        "len(a)"
      ],
      "metadata": {
        "colab": {
          "base_uri": "https://localhost:8080/"
        },
        "id": "a3iknUxnPHlU",
        "outputId": "0a0ac266-5844-461a-bfc9-f2593b934677"
      },
      "execution_count": null,
      "outputs": [
        {
          "output_type": "execute_result",
          "data": {
            "text/plain": [
              "11"
            ]
          },
          "metadata": {},
          "execution_count": 2
        }
      ]
    },
    {
      "cell_type": "code",
      "source": [
        "# 3. Write a code to slice the first 3 characters from the string \"Python Programming\"\n",
        "str = \"python programming\"\n",
        "str[:3]"
      ],
      "metadata": {
        "id": "vPRIqsXYPbVX",
        "colab": {
          "base_uri": "https://localhost:8080/",
          "height": 36
        },
        "outputId": "01e6ded9-d21d-4a30-a70c-606c5198d2ee"
      },
      "execution_count": 2,
      "outputs": [
        {
          "output_type": "execute_result",
          "data": {
            "text/plain": [
              "'pyt'"
            ],
            "application/vnd.google.colaboratory.intrinsic+json": {
              "type": "string"
            }
          },
          "metadata": {},
          "execution_count": 2
        }
      ]
    },
    {
      "cell_type": "code",
      "source": [
        "# 4. Write a code to convert the string \"hello\" to uppercase?\n",
        "str = \"hello\"\n",
        "str.upper()"
      ],
      "metadata": {
        "colab": {
          "base_uri": "https://localhost:8080/",
          "height": 36
        },
        "id": "7rhFsXGCbGWZ",
        "outputId": "95e7f2b3-4c83-4d23-e5e4-0c9505f04d45"
      },
      "execution_count": 3,
      "outputs": [
        {
          "output_type": "execute_result",
          "data": {
            "text/plain": [
              "'HELLO'"
            ],
            "application/vnd.google.colaboratory.intrinsic+json": {
              "type": "string"
            }
          },
          "metadata": {},
          "execution_count": 3
        }
      ]
    },
    {
      "cell_type": "code",
      "source": [
        "# 5. Write a code to replace the word \"apple\" with \"orange\" in the string \"I like apple\"?\n",
        "str = \"I like apple\"\n",
        "str.replace(\"apple\", \"orange\")"
      ],
      "metadata": {
        "colab": {
          "base_uri": "https://localhost:8080/",
          "height": 36
        },
        "id": "7h_EtrdYbsUI",
        "outputId": "438f45c8-34bf-4a25-f035-2384a7ea95dc"
      },
      "execution_count": 4,
      "outputs": [
        {
          "output_type": "execute_result",
          "data": {
            "text/plain": [
              "'I like orange'"
            ],
            "application/vnd.google.colaboratory.intrinsic+json": {
              "type": "string"
            }
          },
          "metadata": {},
          "execution_count": 4
        }
      ]
    },
    {
      "cell_type": "code",
      "source": [
        "# 6. Write a code to create a list with numbers 1 to 5 and print it?\n",
        "num = [1, 2, 3, 4, 5]\n",
        "num"
      ],
      "metadata": {
        "colab": {
          "base_uri": "https://localhost:8080/"
        },
        "id": "vwajEZ_ecFKI",
        "outputId": "0cddbd6d-b803-479f-d4d9-d2bd4a9e08f1"
      },
      "execution_count": 6,
      "outputs": [
        {
          "output_type": "execute_result",
          "data": {
            "text/plain": [
              "[1, 2, 3, 4, 5]"
            ]
          },
          "metadata": {},
          "execution_count": 6
        }
      ]
    },
    {
      "cell_type": "code",
      "source": [
        "# 7. Write a code to append the number 10 to the list [1, 2, 3, 4]?\n",
        "num1 = [1, 2, 3, 4]\n",
        "num1.append(10)\n",
        "num1"
      ],
      "metadata": {
        "colab": {
          "base_uri": "https://localhost:8080/"
        },
        "id": "7fMxA7sBc7JW",
        "outputId": "0e7f212e-2f82-487c-a3db-e05d329daf4d"
      },
      "execution_count": 17,
      "outputs": [
        {
          "output_type": "execute_result",
          "data": {
            "text/plain": [
              "[1, 2, 3, 4, 10]"
            ]
          },
          "metadata": {},
          "execution_count": 17
        }
      ]
    },
    {
      "cell_type": "code",
      "source": [
        "# 8. Write a code to remove the number 3 from the list [1, 2, 3, 4s, 5]?\n",
        "a = [1, 2, 3, \"4s\", 5]\n",
        "a.remove(3)\n",
        "a\n"
      ],
      "metadata": {
        "colab": {
          "base_uri": "https://localhost:8080/"
        },
        "id": "euBgF8sody5c",
        "outputId": "01a24fd7-8fc2-4f69-8271-9fa2c4ccdb25"
      },
      "execution_count": 23,
      "outputs": [
        {
          "output_type": "execute_result",
          "data": {
            "text/plain": [
              "[1, 2, '4s', 5]"
            ]
          },
          "metadata": {},
          "execution_count": 23
        }
      ]
    },
    {
      "cell_type": "code",
      "source": [
        "# 9. Write a code to access the second element in the list ['a', 'b', 'c', 'd']?"
      ],
      "metadata": {
        "id": "3dQDXU96fBrD"
      },
      "execution_count": null,
      "outputs": []
    },
    {
      "cell_type": "code",
      "source": [
        "lis = [\"a\", \"b\", \"c\", \"d\"]\n",
        "lis\n",
        "lis[1]"
      ],
      "metadata": {
        "colab": {
          "base_uri": "https://localhost:8080/",
          "height": 36
        },
        "id": "l_HLP_VEf6EP",
        "outputId": "a9e09072-c307-41fd-827f-9875f4450aab"
      },
      "execution_count": 25,
      "outputs": [
        {
          "output_type": "execute_result",
          "data": {
            "text/plain": [
              "'b'"
            ],
            "application/vnd.google.colaboratory.intrinsic+json": {
              "type": "string"
            }
          },
          "metadata": {},
          "execution_count": 25
        }
      ]
    },
    {
      "cell_type": "code",
      "source": [
        "# 10.Write a code to reverse the list [10, 20, 30, 40, 50]?\n",
        "\n",
        "lis1 = [10, 20, 30, 40, 50]\n",
        "lis1.reverse()\n",
        "lis1\n"
      ],
      "metadata": {
        "colab": {
          "base_uri": "https://localhost:8080/"
        },
        "id": "jnZVsSxLga5r",
        "outputId": "37fe49ad-fad3-44da-c07d-2b47e7fcf9db"
      },
      "execution_count": 28,
      "outputs": [
        {
          "output_type": "execute_result",
          "data": {
            "text/plain": [
              "[50, 40, 30, 20, 10]"
            ]
          },
          "metadata": {},
          "execution_count": 28
        }
      ]
    },
    {
      "cell_type": "code",
      "source": [
        "# 11. Write a code to create a tuple with the elements 100, 200, 300 and print it?\n",
        "Tup = (100, 200, 300)\n",
        "Tup"
      ],
      "metadata": {
        "colab": {
          "base_uri": "https://localhost:8080/"
        },
        "id": "VxwwyQg2hM8S",
        "outputId": "e772d155-a384-4c93-daf4-c76703940d77"
      },
      "execution_count": 30,
      "outputs": [
        {
          "output_type": "execute_result",
          "data": {
            "text/plain": [
              "(100, 200, 300)"
            ]
          },
          "metadata": {},
          "execution_count": 30
        }
      ]
    },
    {
      "cell_type": "code",
      "source": [
        "# 12. Write a code to access the second-to-last element of the tuple ('red', 'green', 'blue', 'yellow')?"
      ],
      "metadata": {
        "id": "jNwJFqW_hjJ7"
      },
      "execution_count": null,
      "outputs": []
    },
    {
      "cell_type": "code",
      "source": [
        "Ele = (\"red\", \"green\", \"blue\", \"yellow\")\n",
        "Ele[1:]"
      ],
      "metadata": {
        "colab": {
          "base_uri": "https://localhost:8080/"
        },
        "id": "3Oy1S3-phoIx",
        "outputId": "0783a634-0bd6-4900-d641-fddec5d9cb36"
      },
      "execution_count": 31,
      "outputs": [
        {
          "output_type": "execute_result",
          "data": {
            "text/plain": [
              "('green', 'blue', 'yellow')"
            ]
          },
          "metadata": {},
          "execution_count": 31
        }
      ]
    },
    {
      "cell_type": "code",
      "source": [
        "# 13. Write a code to find the minimum number in the tuple (10, 20, 5, 15)?\n",
        "num = (10, 20, 5, 15)\n",
        "min(num)\n",
        "\n",
        "\n"
      ],
      "metadata": {
        "colab": {
          "base_uri": "https://localhost:8080/"
        },
        "id": "7RJRng2JiKrg",
        "outputId": "08ecc79b-417b-4760-bfea-259f8a548fd4"
      },
      "execution_count": 34,
      "outputs": [
        {
          "output_type": "execute_result",
          "data": {
            "text/plain": [
              "5"
            ]
          },
          "metadata": {},
          "execution_count": 34
        }
      ]
    },
    {
      "cell_type": "code",
      "source": [
        "# 14. Write a code to find the index of the element \"cat\" in the tuple ('dog', 'cat', 'rabbit')?\n",
        "name = (\"dog\", \"cat\", \"rabbit\")\n",
        "name.index(\"cat\")"
      ],
      "metadata": {
        "colab": {
          "base_uri": "https://localhost:8080/"
        },
        "id": "5o4VeVcCjXwh",
        "outputId": "d72a54a7-68cf-4578-e1bd-2f103115e159"
      },
      "execution_count": 35,
      "outputs": [
        {
          "output_type": "execute_result",
          "data": {
            "text/plain": [
              "1"
            ]
          },
          "metadata": {},
          "execution_count": 35
        }
      ]
    },
    {
      "cell_type": "code",
      "source": [
        "# 15. Write a code to create a tuple containing three different fruits and check if \"kiwi\" is in it?\n",
        "fruits =(\"apple\", \"orange\", \"kiwi\")\n",
        "if \"kiwi\" in fruits:\n",
        "  print(\"yes kiwi in fruits\")\n",
        "else:\n",
        "  print(\"no kiwi is not in fruits\" )\n",
        "\n"
      ],
      "metadata": {
        "colab": {
          "base_uri": "https://localhost:8080/"
        },
        "id": "rv6pu1Byj-uC",
        "outputId": "c309385d-fae6-4ec4-e4c8-7163799372c6"
      },
      "execution_count": 38,
      "outputs": [
        {
          "output_type": "stream",
          "name": "stdout",
          "text": [
            "yes kiwi in fruits\n"
          ]
        }
      ]
    },
    {
      "cell_type": "code",
      "source": [
        "# 16. Write a code to create a set with the elements 'a', 'b', 'c' and print it.\n",
        "\n",
        "alpha = {\"a\", \"b\", \"c\"}\n",
        "alpha"
      ],
      "metadata": {
        "colab": {
          "base_uri": "https://localhost:8080/"
        },
        "id": "GakuFyWulz7m",
        "outputId": "aab24da1-aceb-4a62-ac89-f31336df7377"
      },
      "execution_count": 39,
      "outputs": [
        {
          "output_type": "execute_result",
          "data": {
            "text/plain": [
              "{'a', 'b', 'c'}"
            ]
          },
          "metadata": {},
          "execution_count": 39
        }
      ]
    },
    {
      "cell_type": "code",
      "source": [
        "# 17.  Write a code to clear all elements from the set {1, 2, 3, 4, 5}.\n",
        "num = {1, 2, 3, 4, 5}\n",
        "num.clear()\n",
        "num"
      ],
      "metadata": {
        "colab": {
          "base_uri": "https://localhost:8080/"
        },
        "id": "wgOPifKDmK6Y",
        "outputId": "8b785eec-bc0e-4a1a-b630-8abbf2bb783f"
      },
      "execution_count": 41,
      "outputs": [
        {
          "output_type": "execute_result",
          "data": {
            "text/plain": [
              "set()"
            ]
          },
          "metadata": {},
          "execution_count": 41
        }
      ]
    },
    {
      "cell_type": "code",
      "source": [
        "# 18. Write a code to remove the element 4 from the set {1, 2, 3, 4}?\n",
        "ab = {1, 2, 3, 4}\n",
        "ab.remove(4)\n",
        "ab"
      ],
      "metadata": {
        "colab": {
          "base_uri": "https://localhost:8080/"
        },
        "id": "w1u7FQhEmK3A",
        "outputId": "4b663629-64c2-4696-d5a4-9b08be8a5711"
      },
      "execution_count": 42,
      "outputs": [
        {
          "output_type": "execute_result",
          "data": {
            "text/plain": [
              "{1, 2, 3}"
            ]
          },
          "metadata": {},
          "execution_count": 42
        }
      ]
    },
    {
      "cell_type": "code",
      "source": [
        "# 19. Write a code to find the union of two sets {1, 2, 3} and {3, 4, 5}.\n",
        "x = {1, 2, 3}\n",
        "y = {3, 4, 5}\n",
        "x|y"
      ],
      "metadata": {
        "colab": {
          "base_uri": "https://localhost:8080/"
        },
        "id": "HPFbbbYDm0U5",
        "outputId": "f4203665-a564-4402-f006-36d817ae976a"
      },
      "execution_count": 43,
      "outputs": [
        {
          "output_type": "execute_result",
          "data": {
            "text/plain": [
              "{1, 2, 3, 4, 5}"
            ]
          },
          "metadata": {},
          "execution_count": 43
        }
      ]
    },
    {
      "cell_type": "code",
      "source": [
        "# 20. Write a code to find the intersection of two sets {1, 2, 3} and {2, 3, 4}\n",
        "x = {1, 2, 3}\n",
        "y = {3, 4, 5}\n",
        "x&y"
      ],
      "metadata": {
        "colab": {
          "base_uri": "https://localhost:8080/"
        },
        "id": "ojUHBeDrnQHI",
        "outputId": "d5eda298-5b30-46f9-ea7e-511a09ccb5d7"
      },
      "execution_count": 44,
      "outputs": [
        {
          "output_type": "execute_result",
          "data": {
            "text/plain": [
              "{3}"
            ]
          },
          "metadata": {},
          "execution_count": 44
        }
      ]
    },
    {
      "cell_type": "code",
      "source": [
        "# 21. Write a code to create a dictionary with the keys \"name\", \"age\", and \"city\", and print it.\n",
        "info = {\"name\" : \"palak\",\"age\" : 30, \"city\" : \"kanpur\"}\n",
        "info"
      ],
      "metadata": {
        "colab": {
          "base_uri": "https://localhost:8080/"
        },
        "id": "9BhmmzltnlO3",
        "outputId": "f21c9d87-e845-47ce-b424-b26787d1ebe9"
      },
      "execution_count": 47,
      "outputs": [
        {
          "output_type": "execute_result",
          "data": {
            "text/plain": [
              "{'name': 'palak', 'age': 30, 'city': 'kanpur'}"
            ]
          },
          "metadata": {},
          "execution_count": 47
        }
      ]
    },
    {
      "cell_type": "code",
      "source": [
        "# 22. Write a code to add a new key-value pair \"country\": \"USA\" to the dictionary {'name': 'John', 'age': 25}.\n",
        "id = {\"name\" : \"John\", \"age\" : 25}\n",
        "id"
      ],
      "metadata": {
        "colab": {
          "base_uri": "https://localhost:8080/"
        },
        "id": "UBq0gA-soKX1",
        "outputId": "84448802-19fc-49ee-db1f-d486db48fd44"
      },
      "execution_count": 48,
      "outputs": [
        {
          "output_type": "execute_result",
          "data": {
            "text/plain": [
              "{'name': 'John', 'age': 25}"
            ]
          },
          "metadata": {},
          "execution_count": 48
        }
      ]
    },
    {
      "cell_type": "code",
      "source": [
        "id.update({\"country\" : \"USA\"})\n",
        "id"
      ],
      "metadata": {
        "colab": {
          "base_uri": "https://localhost:8080/"
        },
        "id": "OqwkJF7Xo8oF",
        "outputId": "dd21fa24-0323-447c-df5b-58b446a23c31"
      },
      "execution_count": 54,
      "outputs": [
        {
          "output_type": "execute_result",
          "data": {
            "text/plain": [
              "{'name': 'John', 'age': 25, 'country': 'USA'}"
            ]
          },
          "metadata": {},
          "execution_count": 54
        }
      ]
    },
    {
      "cell_type": "code",
      "source": [
        "# 23. Write a code to access the value associated with the key \"name\" in the dictionary {'name': 'Alice', 'age': 30}.\n",
        "ab = {\"name\" : \"Alice\", \"age\" : 30}\n",
        "ab[\"name\"]"
      ],
      "metadata": {
        "colab": {
          "base_uri": "https://localhost:8080/",
          "height": 36
        },
        "id": "YBYx17BwqVZB",
        "outputId": "828d24c8-1bf0-4ae7-9d58-ac1787bc0a4b"
      },
      "execution_count": 55,
      "outputs": [
        {
          "output_type": "execute_result",
          "data": {
            "text/plain": [
              "'Alice'"
            ],
            "application/vnd.google.colaboratory.intrinsic+json": {
              "type": "string"
            }
          },
          "metadata": {},
          "execution_count": 55
        }
      ]
    },
    {
      "cell_type": "code",
      "source": [
        "# 24. Write a code to remove the key \"age\" from the dictionary {'name': 'Bob', 'age': 22, 'city': 'New York'}.\n",
        "id = {\"name\" : \"Alice\", \"age\" : 22, \"city\": \"New York\"}\n",
        "del id[\"age\"]\n",
        "id"
      ],
      "metadata": {
        "colab": {
          "base_uri": "https://localhost:8080/"
        },
        "id": "ijg7YHFJqy-p",
        "outputId": "c640057e-da1d-4ca8-953a-d246a2ea967d"
      },
      "execution_count": 56,
      "outputs": [
        {
          "output_type": "execute_result",
          "data": {
            "text/plain": [
              "{'name': 'Alice', 'city': 'New York'}"
            ]
          },
          "metadata": {},
          "execution_count": 56
        }
      ]
    },
    {
      "cell_type": "code",
      "source": [
        "# 25.  Write a code to check if the key \"city\" exists in the dictionary {'name': 'Alice', 'city': 'Paris'}.\n",
        "id2 = {\"name\": \"Alice\", \"city\": \"Paris\"}\n",
        "\"city\" in id2\n",
        "\n"
      ],
      "metadata": {
        "colab": {
          "base_uri": "https://localhost:8080/"
        },
        "id": "fmhmsdDQrmnf",
        "outputId": "e389046f-ad41-48e6-f6ac-cd78e20340f3"
      },
      "execution_count": 62,
      "outputs": [
        {
          "output_type": "execute_result",
          "data": {
            "text/plain": [
              "True"
            ]
          },
          "metadata": {},
          "execution_count": 62
        }
      ]
    },
    {
      "cell_type": "code",
      "source": [
        "id2 = {\"name\": \"Alice\", \"city\": \"Paris\"}\n",
        "id2.get(\"city\")"
      ],
      "metadata": {
        "colab": {
          "base_uri": "https://localhost:8080/",
          "height": 36
        },
        "id": "q5xuwcEOs8D9",
        "outputId": "7ce88e17-ae9a-4e8a-fba3-fc1343d29305"
      },
      "execution_count": 63,
      "outputs": [
        {
          "output_type": "execute_result",
          "data": {
            "text/plain": [
              "'Paris'"
            ],
            "application/vnd.google.colaboratory.intrinsic+json": {
              "type": "string"
            }
          },
          "metadata": {},
          "execution_count": 63
        }
      ]
    },
    {
      "cell_type": "code",
      "source": [
        "# 26. Write a code to create a list, a tuple, and a dictionary, and print them all?\n",
        "num = [(\"a\", 1), (\"b\", 2), (\"c\", 3)]\n",
        "dict(num)"
      ],
      "metadata": {
        "colab": {
          "base_uri": "https://localhost:8080/"
        },
        "id": "Qo6naMuntDUj",
        "outputId": "4e4d22e8-5980-4dcd-ad3a-0dcca15132d5"
      },
      "execution_count": 64,
      "outputs": [
        {
          "output_type": "execute_result",
          "data": {
            "text/plain": [
              "{'a': 1, 'b': 2, 'c': 3}"
            ]
          },
          "metadata": {},
          "execution_count": 64
        }
      ]
    },
    {
      "cell_type": "code",
      "source": [
        "# 27. Write a code to create a list of 5 random numbers between 1 and 100, sort it in ascending order, and print the\n",
        "# result.(replaced)\n",
        "num = [45, 34, 65, 12, 8]\n",
        "num"
      ],
      "metadata": {
        "colab": {
          "base_uri": "https://localhost:8080/"
        },
        "id": "9uwhyzeEtQJy",
        "outputId": "d0a85371-55c3-4646-88f2-f9ea4eba3466"
      },
      "execution_count": 65,
      "outputs": [
        {
          "output_type": "execute_result",
          "data": {
            "text/plain": [
              "[45, 34, 65, 12, 8]"
            ]
          },
          "metadata": {},
          "execution_count": 65
        }
      ]
    },
    {
      "cell_type": "code",
      "source": [
        "num.sort()\n",
        "num"
      ],
      "metadata": {
        "colab": {
          "base_uri": "https://localhost:8080/"
        },
        "id": "sbQpsB3YuF2S",
        "outputId": "22367be0-de7a-4b93-c85e-4411cca02578"
      },
      "execution_count": 67,
      "outputs": [
        {
          "output_type": "execute_result",
          "data": {
            "text/plain": [
              "[8, 12, 34, 45, 65]"
            ]
          },
          "metadata": {},
          "execution_count": 67
        }
      ]
    },
    {
      "cell_type": "code",
      "source": [
        "# 28. Write a code to create a list with strings and print the element at the third index.\n",
        "\n",
        "name = [\"Ajay\", \"Palak\", \"Sarita\", \"Rahul\", \"Jhon\"]\n",
        "name[3]"
      ],
      "metadata": {
        "colab": {
          "base_uri": "https://localhost:8080/",
          "height": 36
        },
        "id": "C7-LdC-7wPDZ",
        "outputId": "d126cb8d-aea1-4c0d-c0f3-7bfb6ade59a2"
      },
      "execution_count": 73,
      "outputs": [
        {
          "output_type": "execute_result",
          "data": {
            "text/plain": [
              "'Rahul'"
            ],
            "application/vnd.google.colaboratory.intrinsic+json": {
              "type": "string"
            }
          },
          "metadata": {},
          "execution_count": 73
        }
      ]
    },
    {
      "cell_type": "code",
      "source": [
        "# 29. Write a code to combine two dictionaries into one and print the result.\n",
        "dict1 = {\"a\" : 1, \"b\" :2, \"c\" : 3}\n",
        "dict2 = {\"ab\" : 11, \"cd\" : 22, \"ef\" : 33}\n",
        "dict1.update(dict2)\n",
        "dict1\n"
      ],
      "metadata": {
        "colab": {
          "base_uri": "https://localhost:8080/"
        },
        "id": "SYf0f-hIwsNr",
        "outputId": "eb83c526-fa33-4c25-e4d8-46cc3779a8f9"
      },
      "execution_count": 75,
      "outputs": [
        {
          "output_type": "execute_result",
          "data": {
            "text/plain": [
              "{'a': 1, 'b': 2, 'c': 3, 'ab': 11, 'cd': 22, 'ef': 33}"
            ]
          },
          "metadata": {},
          "execution_count": 75
        }
      ]
    },
    {
      "cell_type": "code",
      "source": [
        "#30. Write a code to convert a list of strings into a set.\n",
        "name = [\"Ajay\", \"Palak\", \"Sarita\", \"Rahul\", \"Jhon\"]\n",
        "set(name)\n",
        "name"
      ],
      "metadata": {
        "colab": {
          "base_uri": "https://localhost:8080/"
        },
        "id": "UAVzfjjBzgpl",
        "outputId": "fdd60e71-6256-4475-d751-6a55b2b46b59"
      },
      "execution_count": 77,
      "outputs": [
        {
          "output_type": "execute_result",
          "data": {
            "text/plain": [
              "['Ajay', 'Palak', 'Sarita', 'Rahul', 'Jhon']"
            ]
          },
          "metadata": {},
          "execution_count": 77
        }
      ]
    }
  ]
}